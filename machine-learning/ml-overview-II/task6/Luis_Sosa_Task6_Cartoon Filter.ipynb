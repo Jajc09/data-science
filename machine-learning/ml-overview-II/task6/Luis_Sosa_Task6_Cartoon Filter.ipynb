{
 "cells": [
  {
   "cell_type": "markdown",
   "metadata": {},
   "source": [
    "# ASSIGNMENT: Cartoon Face Mask\n",
    "## This assignment tests your ability to apply face recognition, image masks, image thresholding, video capturing and saving video feed into a video file concepts."
   ]
  },
  {
   "cell_type": "markdown",
   "metadata": {},
   "source": [
    "## TASK: Cartoonify faces in video feed from live webcam\n",
    "\n",
    "### Steps\n",
    "- 1. **Capture video** feed from webcam\n",
    "- 2. **Recognize faces** in the video\n",
    "- 3. **Replace/Mask the face** region with your favorite cartoon character\n",
    "- 4. **Save the video** feed into a video file\n",
    "- 5. Submit the following files\n",
    "    - Notebook (.ipynb)\n",
    "    - Video (.avi/.mp4)"
   ]
  },
  {
   "cell_type": "markdown",
   "metadata": {},
   "source": [
    "### Helper code to recognize faces"
   ]
  },
  {
   "cell_type": "code",
   "execution_count": 5,
   "metadata": {},
   "outputs": [],
   "source": [
    "import cv2\n",
    "import numpy as np\n",
    "import os"
   ]
  },
  {
   "cell_type": "markdown",
   "metadata": {},
   "source": [
    "### Read image to replace face"
   ]
  },
  {
   "cell_type": "code",
   "execution_count": 6,
   "metadata": {},
   "outputs": [],
   "source": [
    "img= cv2.imread('miku.png')\n",
    "#cv2.imshow('Image', img)\n",
    "#cv2.waitKey(0)\n",
    "#resize image because it´s too big\n",
    "#r = 200.0 /img.shape[1]\n",
    "#dim = (200, int(img.shape[0] * r))\n",
    "#small = cv2.resize(img, dim, interpolation = cv2.INTER_AREA)\n",
    "#cv2.imshow('Normal Image' , np.hstack([small]))\n",
    "#cv2.waitKey(0)"
   ]
  },
  {
   "cell_type": "code",
   "execution_count": 9,
   "metadata": {},
   "outputs": [],
   "source": [
    "def save_webcam(outPath,fps,mirror=False):\n",
    "    cascPathface = os.path.dirname(cv2.__file__) + \"/data/haarcascade_frontalface_alt2.xml\"\n",
    "    cascPatheyes = os.path.dirname(cv2.__file__) + \"/data/haarcascade_eye_tree_eyeglasses.xml\"\n",
    "    \n",
    "    faceCascade = cv2.CascadeClassifier(cascPathface)\n",
    "    eyeCascade = cv2.CascadeClassifier(cascPatheyes)\n",
    "    \n",
    "    video_capture = cv2.VideoCapture(0)\n",
    "    currentFrame = 0\n",
    "    \n",
    "    # Get current width of frame\n",
    "    width = video_capture.get(cv2.CAP_PROP_FRAME_WIDTH)  # float\n",
    "    # Get current height of frame\n",
    "    height = video_capture.get(cv2.CAP_PROP_FRAME_HEIGHT)  # float\n",
    "    \n",
    "    # Define the codec and create VideoWriter object\n",
    "    fourcc = cv2.VideoWriter_fourcc(*'DIVX')\n",
    "    out = cv2.VideoWriter(outPath, fourcc, fps, (int(width), int(height)))\n",
    "    \n",
    "    while True:\n",
    "        # Capture frame-by-frame\n",
    "        ret, frame = video_capture.read()\n",
    "        gray = cv2.cvtColor(frame, cv2.COLOR_BGR2GRAY)\n",
    "        faces = faceCascade.detectMultiScale(gray,\n",
    "                                             scaleFactor=1.1,\n",
    "                                             minNeighbors=5,\n",
    "                                             minSize=(60, 60),\n",
    "                                             flags=cv2.CASCADE_SCALE_IMAGE)\n",
    "        for (x,y,w,h) in faces:\n",
    "            cv2.rectangle(frame, (x, y), (x + w, y + h),(0,255,0), 2)\n",
    "            faceROI = frame[y:y+h,x:x+w]\n",
    "            eyes = eyeCascade.detectMultiScale(faceROI)\n",
    "\n",
    "            \n",
    "            img3 = frame.copy()\n",
    "            #resize image because it´s too big\n",
    "            r = (y+h) /img.shape[1]\n",
    "            dim = (x+w,int(img.shape[1] * r))\n",
    "            resized = cv2.resize(img,faceROI.shape[:2], interpolation = cv2.INTER_AREA)\n",
    "            cv2.imshow('MIku', resized)\n",
    "            \n",
    "            x_offset=x\n",
    "            y_offset=y\n",
    "            \n",
    "            #########THIS LINE IT´S FOR SHOW THE WHOLE IMAGE WITOUTH ALPHA\n",
    "            #img3[y_offset:y_offset+resized.shape[0], x_offset:x_offset+resized.shape[1]] = resized\n",
    "            \n",
    "            \n",
    "            #######THIS PART IT´S FOR SHOW IMAGE WITH TRANSPARENCY (LOOKS BETTER THIS WAY)\n",
    "            y1, y2 = y_offset, y_offset + resized.shape[0]\n",
    "            x1, x2 = x_offset, x_offset + resized.shape[1]\n",
    "            alpha_s = resized[:, :, 2] / 255.0\n",
    "            alpha_l = 0.4 - alpha_s\n",
    "            \n",
    "            for c in range(0, 3):\n",
    "                img3[y1:y2, x1:x2, c] = (alpha_s * resized[:, :, c] +\n",
    "                              alpha_l * img3[y1:y2, x1:x2, c])\n",
    "            \n",
    "            for (x2, y2, w2, h2) in eyes:\n",
    "                eye_center = (x + x2 + w2 // 2, y + y2 + h2 // 2)\n",
    "                radius = int(round((w2 + h2) * 0.25))\n",
    "                frame = cv2.circle(frame, eye_center, radius, (255, 0, 0), 4)\n",
    "    \n",
    "            # Display the resulting frame\n",
    "            cv2.imshow('Face Video', img3)\n",
    "            cv2.imshow(\"Face ROI\", faceROI)\n",
    "            \n",
    "        # Saves for video\n",
    "        #out.write(img3)\n",
    "        # To stop duplicate images\n",
    "        currentFrame += 1\n",
    "        \n",
    "        if cv2.waitKey(1) & 0xFF == ord('q'):\n",
    "            break\n",
    "    video_capture.release()\n",
    "    out.release()\n",
    "    cv2.destroyAllWindows()"
   ]
  },
  {
   "cell_type": "code",
   "execution_count": 10,
   "metadata": {},
   "outputs": [],
   "source": [
    "def main():\n",
    "    save_webcam('output.mp4', 20.0,mirror=True)\n",
    "\n",
    "if __name__ == '__main__':\n",
    "    main()"
   ]
  },
  {
   "cell_type": "code",
   "execution_count": null,
   "metadata": {},
   "outputs": [],
   "source": []
  },
  {
   "cell_type": "code",
   "execution_count": null,
   "metadata": {},
   "outputs": [],
   "source": []
  }
 ],
 "metadata": {
  "kernelspec": {
   "display_name": "Python 3",
   "language": "python",
   "name": "python3"
  },
  "language_info": {
   "codemirror_mode": {
    "name": "ipython",
    "version": 3
   },
   "file_extension": ".py",
   "mimetype": "text/x-python",
   "name": "python",
   "nbconvert_exporter": "python",
   "pygments_lexer": "ipython3",
   "version": "3.7.3"
  }
 },
 "nbformat": 4,
 "nbformat_minor": 4
}
