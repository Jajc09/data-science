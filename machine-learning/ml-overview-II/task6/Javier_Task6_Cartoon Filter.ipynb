{
 "cells": [
  {
   "cell_type": "markdown",
   "metadata": {},
   "source": [
    "# ASSIGNMENT: Cartoon Face Mask\n",
    "## This assignment tests your ability to apply face recognition, image masks, image thresholding, video capturing and saving video feed into a video file concepts."
   ]
  },
  {
   "cell_type": "markdown",
   "metadata": {},
   "source": [
    "## TASK: Cartoonify faces in video feed from live webcam\n",
    "\n",
    "### Steps\n",
    "- 1. **Capture video** feed from webcam\n",
    "- 2. **Recognize faces** in the video\n",
    "- 3. **Replace/Mask the face** region with your favorite cartoon character\n",
    "- 4. **Save the video** feed into a video file\n",
    "- 5. Submit the following files\n",
    "    - Notebook (.ipynb)\n",
    "    - Video (.avi/.mp4)"
   ]
  },
  {
   "cell_type": "markdown",
   "metadata": {},
   "source": [
    "### Helper code to recognize faces"
   ]
  },
  {
   "cell_type": "code",
   "execution_count": 1,
   "metadata": {},
   "outputs": [],
   "source": [
    "import cv2\n",
    "import os\n",
    "\n",
    "# built-in Python function that returns the directory name of the pathname path (returns path)\n",
    "cascPathface = os.path.dirname(\n",
    "    cv2.__file__) + \"/data/haarcascade_frontalface_alt2.xml\"\n",
    "cascPatheyes = os.path.dirname(\n",
    "    cv2.__file__) + \"/data/haarcascade_eye_tree_eyeglasses.xml\"\n",
    "\n",
    "# loads an image from the specified file\n",
    "img_to_place = cv2.imread('cartoon2.jpeg')\n",
    "\n",
    "# class to detect objects in a video stream\n",
    "faceCascade = cv2.CascadeClassifier(cascPathface)\n",
    "\n",
    "# Class for video capturing from video files, image sequences or cameras\n",
    "video_capture = cv2.VideoCapture(0)\n",
    "\n",
    "# Get current width of frame\n",
    "width = video_capture.get(cv2.CAP_PROP_FRAME_WIDTH)  \n",
    "# Get current height of frame\n",
    "height = video_capture.get(cv2.CAP_PROP_FRAME_HEIGHT)  \n",
    "\n",
    "fourcc = cv2.VideoWriter_fourcc(*'DIVX')\n",
    "out = cv2.VideoWriter('output.mp4', fourcc, 20.0, (int(width), int(height)))\n",
    "\n",
    "while True:\n",
    "    # Capture frame-by-frame - .read() Grabs, decodes and returns the next video frame.\n",
    "    ret, frame = video_capture.read()\n",
    "\n",
    "    # .cvtColor() is used to convert an image from one color space to another. \n",
    "    gray = cv2.cvtColor(frame, cv2.COLOR_BGR2GRAY)\n",
    "\n",
    "    # the detection is done using the .detectMultiScale() method, returns boundary rectangles for the detected faces or eyes\n",
    "    \"\"\"\n",
    "    Parameters\n",
    "    image:  \t    Matrix of the type CV_8U containing an image where objects are detected.\n",
    "    objects:\t    Vector of rectangles where each rectangle contains the detected object, the rectangles may be partially outside the original image.\n",
    "    scaleFactor:\tParameter specifying how much the image size is reduced at each image scale.\n",
    "    minNeighbors:\tParameter specifying how many neighbors each candidate rectangle should have to retain it.\n",
    "    flags:      \tParameter with the same meaning for an old cascade as in the function cvHaarDetectObjects. It is not used for a new cascade.\n",
    "    minSize:    \tMinimum possible object size. Objects smaller than that are ignored.\n",
    "    maxSize:    \tMaximum possible object size. Objects larger than that are ignored. If maxSize == minSize model is evaluated on single scale.\n",
    "    \"\"\"\n",
    "    faces = faceCascade.detectMultiScale(gray,\n",
    "                                         scaleFactor=1.1,\n",
    "                                         minNeighbors=5,\n",
    "                                         minSize=(60, 60),\n",
    "                                         flags=cv2.CASCADE_SCALE_IMAGE)\n",
    "\n",
    "    for (x,y,w,h) in faces:\n",
    "        img_h, img_w, _ = img_to_place.shape \n",
    "        frame[y:y+img_h, x:x+img_w] = img_to_place\n",
    "\n",
    "        # Display the resulting frame\n",
    "        cv2.imshow('Face Video', frame)\n",
    "\n",
    "    out.write(frame)\n",
    "\n",
    "    if cv2.waitKey(1) & 0xFF == ord('q'):\n",
    "        break\n",
    "video_capture.release()\n",
    "out.release()\n",
    "cv2.destroyAllWindows()"
   ]
  }
 ],
 "metadata": {
  "interpreter": {
   "hash": "d79ff42df490fa64e52db9ef29539a492e116afdf0d9b56353bfc649d370fedb"
  },
  "kernelspec": {
   "display_name": "testing",
   "language": "python",
   "name": "python3"
  },
  "language_info": {
   "codemirror_mode": {
    "name": "ipython",
    "version": 3
   },
   "file_extension": ".py",
   "mimetype": "text/x-python",
   "name": "python",
   "nbconvert_exporter": "python",
   "pygments_lexer": "ipython3",
   "version": "3.7.3"
  }
 },
 "nbformat": 4,
 "nbformat_minor": 4
}
