{
 "cells": [
  {
   "cell_type": "markdown",
   "metadata": {},
   "source": [
    "# Summarization\n",
    "## This notebook outlines the concepts behind Text Summarization"
   ]
  },
  {
   "cell_type": "markdown",
   "metadata": {},
   "source": [
    "## Summarization\n",
    "- concept of capturing very important gist of a long piece of text\n",
    "\n",
    "### Types of Summarization\n",
    "- 1. **Extractive Summarization**\n",
    "    - Select sentences from the corpus that best represent the text\n",
    "    - Arrange them to form a summary\n",
    "- 2. **Abstractive Summarization**\n",
    "    - Captures the very important sentences from the text\n",
    "    - Paraphrases them to form a summary"
   ]
  },
  {
   "cell_type": "markdown",
   "metadata": {},
   "source": [
    "## Summarization Libraries\n",
    "- Sumy\n",
    "- Gensim\n",
    "- Summa\n",
    "- BERT **\n",
    "    - BART **\n",
    "    - PEGASUS **\n",
    "    - T5 **\n",
    "\n",
    "** Will be seen in DL-1\n",
    "\n",
    "\n",
    "## 1. Sumy :\n",
    "    1. Luhn – Heurestic method\n",
    "    2. Latent Semantic Analysis\n",
    "    4. LexRank – Unsupervised approach inspired by algorithms PageRank and HITS\n",
    "    5. TextRank - Graph-based summarization technique with keyword extractions in from document\n",
    "\n",
    "Documentation Reference [sumy](https://github.com/miso-belica/sumy)"
   ]
  },
  {
   "cell_type": "markdown",
   "metadata": {},
   "source": [
    "## Task: Take a piece of text from wiki page and summarize them using Sumy\n",
    "### Steps\n",
    "- Install the necessary libraries\n",
    "- Import the libraries\n",
    "- Scrape the text from a pre-defined webpage\n",
    "- Summarize"
   ]
  },
  {
   "cell_type": "markdown",
   "metadata": {},
   "source": [
    "### Install Sumy"
   ]
  },
  {
   "cell_type": "code",
   "execution_count": 3,
   "metadata": {
    "scrolled": true
   },
   "outputs": [],
   "source": [
    "#! pip install sumy"
   ]
  },
  {
   "cell_type": "markdown",
   "metadata": {},
   "source": [
    "### Import the libraries\n",
    "- HtmlParser\n",
    "- Tokenizer\n",
    "- TextRankSummarizer"
   ]
  },
  {
   "cell_type": "code",
   "execution_count": 4,
   "metadata": {},
   "outputs": [],
   "source": [
    "from sumy.parsers.html import HtmlParser\n",
    "from sumy.nlp.tokenizers import Tokenizer\n",
    "from sumy.summarizers.text_rank import TextRankSummarizer"
   ]
  },
  {
   "cell_type": "markdown",
   "metadata": {},
   "source": [
    "### Scrape the text"
   ]
  },
  {
   "cell_type": "code",
   "execution_count": 5,
   "metadata": {},
   "outputs": [],
   "source": [
    "url = \"https://medium.com/@subashgandyer/papa-what-is-a-neural-network-c5e5cc427c7\"\n",
    "parser = HtmlParser.from_url(url, Tokenizer(\"english\"))"
   ]
  },
  {
   "cell_type": "code",
   "execution_count": 6,
   "metadata": {},
   "outputs": [
    {
     "data": {
      "text/plain": [
       "<DOM with 46 paragraphs>"
      ]
     },
     "execution_count": 6,
     "metadata": {},
     "output_type": "execute_result"
    }
   ],
   "source": [
    "doc = parser.document\n",
    "doc"
   ]
  },
  {
   "cell_type": "markdown",
   "metadata": {},
   "source": [
    "### Summarize - TextRankSummarizer"
   ]
  },
  {
   "cell_type": "code",
   "execution_count": 7,
   "metadata": {},
   "outputs": [],
   "source": [
    "summarizer = TextRankSummarizer()"
   ]
  },
  {
   "cell_type": "code",
   "execution_count": 8,
   "metadata": {},
   "outputs": [
    {
     "data": {
      "text/plain": [
       "(<Sentence: Papa, What is a Neural Network?At the back of my head, thoughts of me taking days to comprehend what a NN (short for Neural Network) is, how it would work, where it is used, how it is simulating our human brain’s inner workings were going through.>,\n",
       " <Sentence: “Neural Network is a collection (a network) of neurons whose job is to learn a new thing or a new place or a new process or a new concept.”>,\n",
       " <Sentence: After telling her the features of a lion, asked her “Can you draw these for me?” She happily drew almost a similar figure to that of a dog she drew before.>,\n",
       " <Sentence: When you see a new object, your brain will ask the neurons, ‘Hey, anybody experienced this before?’ The neurons will say, ‘Yes, I have seen this.’ Certain other neurons will say, ‘No, I have not seen this.’ The neurons that have seen this before, will group together and form logical connections from the past and gives us an object from our memory.>,\n",
       " <Sentence: The same principle is applied for a song that you hear, a cartoon that you watch, a rhyme that you sing, an animal that you draw, a food that you taste, a flower that you smell and so on.>)"
      ]
     },
     "execution_count": 8,
     "metadata": {},
     "output_type": "execute_result"
    }
   ],
   "source": [
    "summary_text = summarizer(doc, 5)\n",
    "summary_text"
   ]
  },
  {
   "cell_type": "markdown",
   "metadata": {},
   "source": [
    "### Try different Summarizers\n",
    "- LexRankSummarizer\n",
    "- LuhnSummarizer\n",
    "- LsaSummarizer"
   ]
  },
  {
   "cell_type": "markdown",
   "metadata": {},
   "source": [
    "### Import the summarizers"
   ]
  },
  {
   "cell_type": "code",
   "execution_count": 9,
   "metadata": {},
   "outputs": [],
   "source": [
    "from sumy.summarizers.lex_rank import LexRankSummarizer\n",
    "from sumy.summarizers.luhn import LuhnSummarizer\n",
    "from sumy.summarizers.lsa import LsaSummarizer"
   ]
  },
  {
   "cell_type": "markdown",
   "metadata": {},
   "source": [
    "### Create Summarizers"
   ]
  },
  {
   "cell_type": "code",
   "execution_count": 10,
   "metadata": {},
   "outputs": [],
   "source": [
    "lexSummarizer = LexRankSummarizer()\n",
    "luhnSummarizer = LuhnSummarizer()\n",
    "lsaSummarizer = LsaSummarizer()"
   ]
  },
  {
   "cell_type": "markdown",
   "metadata": {},
   "source": [
    "### LexRankSummarizer"
   ]
  },
  {
   "cell_type": "code",
   "execution_count": 11,
   "metadata": {},
   "outputs": [
    {
     "data": {
      "text/plain": [
       "(<Sentence: After telling her the features of a lion, asked her “Can you draw these for me?” She happily drew almost a similar figure to that of a dog she drew before.>,\n",
       " <Sentence: Was it a dog or a lion?>,\n",
       " <Sentence: Do you know what is the difference between a lion and a dog?” She said, “Yes.” I said, “This is called Learning.>,\n",
       " <Sentence: Picture of my version of Neural Network with their Neuron friends“Your brain is here inside our head.>,\n",
       " <Sentence: Ultimately, the neurons in your brain tell that it is a lion and not a dog.>)"
      ]
     },
     "execution_count": 11,
     "metadata": {},
     "output_type": "execute_result"
    }
   ],
   "source": [
    "lex_summary_text = lexSummarizer(doc, 5)\n",
    "lex_summary_text"
   ]
  },
  {
   "cell_type": "markdown",
   "metadata": {},
   "source": [
    "### LuhnSummarizer"
   ]
  },
  {
   "cell_type": "code",
   "execution_count": 12,
   "metadata": {},
   "outputs": [
    {
     "data": {
      "text/plain": [
       "(<Sentence: Papa, What is a Neural Network?At the back of my head, thoughts of me taking days to comprehend what a NN (short for Neural Network) is, how it would work, where it is used, how it is simulating our human brain’s inner workings were going through.>,\n",
       " <Sentence: How you learnt it is because of Neural Network inside your brain.” Now, a neural network is a collection of neurons that keeps switching on and off based on things you see, feel, hear and think just like switching on light bulb at our home.>,\n",
       " <Sentence: Every neuron is waiting for your eyes to see something new, for your nose to smell something new, for your ears to hear something new, for your tongue to taste something new.>,\n",
       " <Sentence: When something new is heard, or smelled, or seen, or tasted, the neurons will group together to send signals and forms connections with already seen, heard, tasted or smelled neurons.>,\n",
       " <Sentence: When you see a new object, your brain will ask the neurons, ‘Hey, anybody experienced this before?’ The neurons will say, ‘Yes, I have seen this.’ Certain other neurons will say, ‘No, I have not seen this.’ The neurons that have seen this before, will group together and form logical connections from the past and gives us an object from our memory.>)"
      ]
     },
     "execution_count": 12,
     "metadata": {},
     "output_type": "execute_result"
    }
   ],
   "source": [
    "luhn_summary_text = luhnSummarizer(doc, 5)\n",
    "luhn_summary_text"
   ]
  },
  {
   "cell_type": "markdown",
   "metadata": {},
   "source": [
    "### LsaSummarizer"
   ]
  },
  {
   "cell_type": "code",
   "execution_count": 13,
   "metadata": {},
   "outputs": [
    {
     "data": {
      "text/plain": [
       "(<Sentence: If you’ve noticed, this is how ML people make their machines learn through Reinforcement Learning.>,\n",
       " <Sentence: For example, when I showed you a lion picture, your brain asked the neurons who had seen it before.>,\n",
       " <Sentence: Every neuron will tune itself to pick up certain features like legs, tail, face, beard, and so on.>,\n",
       " <Sentence: And I hope she will not come to me running asking “Papa, what is Meural Metark?” again.>,\n",
       " <Sentence: And I have a strong feeling; she would ask me another stunning question sooner or later.>)"
      ]
     },
     "execution_count": 13,
     "metadata": {},
     "output_type": "execute_result"
    }
   ],
   "source": [
    "lsa_summary_text = lsaSummarizer(doc, 5)\n",
    "lsa_summary_text"
   ]
  },
  {
   "cell_type": "markdown",
   "metadata": {},
   "source": [
    "## 2. Gensim"
   ]
  },
  {
   "cell_type": "markdown",
   "metadata": {},
   "source": [
    "## Task: Take a piece of text from wiki page and summarize them using Gensim\n",
    "### Steps\n",
    "- Install the necessary libraries\n",
    "- Import the libraries\n",
    "- Scrape the text from a pre-defined webpage\n",
    "- Summarize"
   ]
  },
  {
   "cell_type": "markdown",
   "metadata": {},
   "source": [
    "### Install the library"
   ]
  },
  {
   "cell_type": "code",
   "execution_count": 14,
   "metadata": {},
   "outputs": [],
   "source": [
    "# !pip install gensim"
   ]
  },
  {
   "cell_type": "markdown",
   "metadata": {},
   "source": [
    "### Import the library"
   ]
  },
  {
   "cell_type": "code",
   "execution_count": 15,
   "metadata": {},
   "outputs": [],
   "source": [
    "from gensim.summarization import summarize"
   ]
  },
  {
   "cell_type": "markdown",
   "metadata": {},
   "source": [
    "### Scrape the text\n",
    "- Use beautifulSoup to extract text (from Task1 of ML-1)"
   ]
  },
  {
   "cell_type": "code",
   "execution_count": 16,
   "metadata": {},
   "outputs": [],
   "source": [
    "import requests\n",
    "import re\n",
    "from bs4 import BeautifulSoup"
   ]
  },
  {
   "cell_type": "code",
   "execution_count": 17,
   "metadata": {},
   "outputs": [],
   "source": [
    "def get_page(url):\n",
    "    res = requests.get(url)\n",
    "    soup = BeautifulSoup(res.text, 'html.parser')\n",
    "    return soup"
   ]
  },
  {
   "cell_type": "code",
   "execution_count": 18,
   "metadata": {},
   "outputs": [],
   "source": [
    "def collect_text(soup):\n",
    "    text = f'url: {url}\\n\\n'\n",
    "    para_text = soup.find_all('p')\n",
    "    print(f\"paragraphs text = \\n {para_text}\")\n",
    "    for para in para_text:\n",
    "        text += f\"{para.text}\\n\\n\"\n",
    "    return text"
   ]
  },
  {
   "cell_type": "code",
   "execution_count": 19,
   "metadata": {},
   "outputs": [],
   "source": [
    "url = \"https://medium.com/@subashgandyer/papa-what-is-a-neural-network-c5e5cc427c7\""
   ]
  },
  {
   "cell_type": "code",
   "execution_count": 20,
   "metadata": {},
   "outputs": [
    {
     "name": "stdout",
     "output_type": "stream",
     "text": [
      "paragraphs text = \n",
      " [<p class=\"bb b bc bd bz\"><span><a class=\"be bh ca cb cc cd ce cf cg bm bj bk ch ci cj\" href=\"/m/signin?operation=login&amp;redirect=https%3A%2F%2Fmedium.com%2F%40subashgandyer%2Fpapa-what-is-a-neural-network-c5e5cc427c7&amp;source=post_page-----c5e5cc427c7---------------------nav_reg--------------\" rel=\"noopener follow\">Sign in</a></span></p>, <p class=\"bb b bc bd be\">Subash Gandyer</p>, <p class=\"bb b bc bd bz\"><span class=\"hd\"></span>Mar 15, 2018<span class=\"he\">·</span>10 min read</p>, <p class=\"ho hp fy hq b hr hs ht hu hv hw hx hy hz ia ib ic id ie if ig ih dn gv\" id=\"7022\">It was a cozy Sunday afternoon in the month of February 2018. I just finished my huge customary Sunday lunch spread with family and resting along. Everyone in the family was taking a quick nap for a pre-planned evening outing. Well not everyone, actually.</p>, <p class=\"ho hp fy hq b hr iz hs ht hu ja hv hw hx jb hy hz ia jc ib ic id jd ie if ih dn gv\" id=\"d273\">My 4-year-old angel came running to me, asked me to play<span id=\"rmm\"><span id=\"rmm\"> </span></span>with her for a while. As I was lazy and not in a position to move after the big spread, I evaded the chance to play with her by telling her “Papa’s got some work baby. Got to code some stuff.” I thought that would be the end of the conversation. No! It wasn’t. As my daughter was very inquisitive, she asked me “Papa, what stuff?” I said, “I need to code something for my work.” She didn’t leave. She again asked, “What is code something?” I wanted to end this conversation, as I was half past asleep. “Just some stuff baby. You wouldn’t understand. Way beyond your age.” Tanishi never takes NO for an answer. “Papa, tell me what stuff means and something means.” Cannot help evade a cute curious face, I said, “I am working on Neural Network.” Before I finish the statement, “Papa, What is a Meural Metark?” I gave up my stubbornness of avoiding her. With a smile, I said slowly, “Its Neu — ral Net — work”</p>, <p class=\"ho hp fy hq b hr iz hs ht hu ja hv hw hx jb hy hz ia jc ib ic id jd ie if ih dn gv\" id=\"cdc5\">She asked, “Papa, What is Meu-ral Met-ark?”</p>, <p class=\"ho hp fy hq b hr iz hs ht hu ja hv hw hx jb hy hz ia jc ib ic id jd ie if ih dn gv\" id=\"79e6\">At the back of my head, thoughts of me taking days to comprehend what a NN (short for Neural Network) is, how it would work, where it is used, how it is simulating our human brain’s inner workings were going through. It took me days and weeks to understand fully and how can I make a 4-year-old understand what a Neural Network is. I never thought about teaching a complex concept to a kid before. It was way beyond their age. It was not a mere color or a shape or a number to teach. This was going to be interesting and challenging. I saw an opportunity here as a teacher (teaching professional college adults) to simplify the complex problem to a simpler understandable concept for a kid who doesn’t know anything apart from ABC, 1 to 20, Colors and Shapes. WOW! This was mind-boggling. I gave a couple of lectures to make my adult students understand what a Neural Network is when I taught them a mini-Machine Learning course. I rolled up my sleeves. Took up the challenge. Sat down beside my kid with pencil, drawing sheet and my laptop.</p>, <p class=\"ho hp fy hq b hr iz hs ht hu ja hv hw hx jb hy hz ia jc ib ic id jd ie if ih dn gv\" id=\"f38f\">Thinking of ways of what would be the best way to start teaching her. One simple methodology: I thought of starting with an easy-to-follow definition.</p>, <p class=\"ho hp fy hq b hr iz hs ht hu ja hv hw hx jb hy hz ia jc ib ic id jd ie if ih dn gv\" id=\"49ee\"><em class=\"js\">“Neural Network is a collection (a network) of neurons whose job is to learn a new thing or a new place or a new process or a new concept.”</em></p>, <p class=\"ho hp fy hq b hr iz hs ht hu ja hv hw hx jb hy hz ia jc ib ic id jd ie if ih dn gv\" id=\"829e\">It would be stupid on my part to start with a definition of Neural Network like how we used to teach adults in college. No, it’s not right for a kid. Then, I thought of a way to start with her favorite hobby of drawing and coloring objects. Gave her a paper, ask her to draw a circle. She did. She didn’t stop there. She drew a face inside the circle. She did with great pride and smile. I drew a circle below. Asked her to draw a dog out of it. She drew a face on the circle, and then she drew one big ellipse next to head. Beneath the ellipse, she drew four legs downwards. She said, “That’s the dog daddy.” I was super impressed as her daddy. I said, “Good Job!” and asked her, “Where’s the tail, baby?” She smiled and drew a tail. That’s it. There’s a dog.</p>, <p class=\"ho hp fy hq b hr iz hs ht hu ja hv hw hx jb hy hz ia jc ib ic id jd ie if ih dn gv\" id=\"30d4\">I knew she never learnt to draw a lion. I took this opportunity to make her learn a new thing. After all, neural network inside our brain helps us to learn new things in our life. I said, “Baby, we would learn how to draw a lion now.” She’s bustling with energy said “Yayyyy! Lion!” and made “Grrrrrrrrr!!!” I tested her by asking her to try drawing a lion. She stumbled. She never came across a lion before. I told her, there would be a circle face, ellipse body, four legs, a tail and so on. What I was actually doing here was teaching her neural network (brain) the features of a lion like exactly how Machine Learning Engineers would train the machine to learn new features. After telling her the features of a lion, asked her “Can you draw these for me?” She happily drew almost a similar figure to that of a dog she drew before.</p>, <p class=\"ho hp fy hq b hr iz hs ht hu ja hv hw hx jb hy hz ia jc ib ic id jd ie if ih dn gv\" id=\"936b\">I said, “Very good”. But they look similar right? Now, we need to know the difference between a dog and a lion. What’s the difference? Lion is big. Dog is small. One big difference is the mane (the beard) just like your papa has. A big beard is the main difference between a lion and a dog. Now I took the pencil and drew a beard in the face. I told her this is a lion. A dog will have features like face, body, legs, and tail. A lion will have features like face, body, legs, tail and a beard. She was little confused, rightly so.</p>, <p class=\"ho hp fy hq b hr iz hs ht hu ja hv hw hx jb hy hz ia jc ib ic id jd ie if ih dn gv\" id=\"fc45\">Tried a different approach to teach her with visuals. I spend some time in collecting pictures of dogs and lions from Google images. Printed it and showed her a set of dogs and then a set of lions. I asked her what these pictures look like to you? Was it a dog or a lion? She kept mixing the answers first. After rewarding her for correct classifications with nice adjectives and correcting her for wrong classifications, her detection accuracy improved a lot after sometime. She slowly got used to it. She got trained. Her neural network got aligned with classifying Dogs and Lions after some training. If you’ve noticed, this is how ML people make their machines learn through Reinforcement Learning. This was how I trained my daughter to classify dogs and lions. She was so happy that she learnt a new thing by doing her favorite pastime of drawing and coloring.</p>, <p class=\"ho hp fy hq b hr iz hs ht hu ja hv hw hx jb hy hz ia jc ib ic id jd ie if ih dn gv\" id=\"c543\">She was happy and there was the neural network functioning concept that still remained to be taught to her. I asked her “What happened now baby? Did you learn something new today? Do you know what is the difference between a lion and a dog?” She said, “Yes.” I said, “This is called Learning. You just learnt a new thing today. How you learnt it is because of Neural Network inside your brain.” Now, a neural network is a collection of neurons that keeps switching on and off based on things you see, feel, hear and think just like switching on light bulb at our home.</p>, <p class=\"ho hp fy hq b hr iz hs ht hu ja hv hw hx jb hy hz ia jc ib ic id jd ie if ih dn gv\" id=\"5ecd\">“Your brain is here inside our head. Your brain has billions of neurons inside. Every neuron has a purpose of seeing a feature. You can think of a feature as a simpler form of an object. For example, a face object can be seen by neurons as a circle (face) with two smaller circles (two eyes), a line (nose) and a curved line (mouth). These are features in a face object. Neurons will look for these patterns (circle, line, curved line, smaller circles and so on). Every neuron is waiting for your eyes to see something new, for your nose to smell something new, for your ears to hear something new, for your tongue to taste something new. When something new is heard, or smelled, or seen, or tasted, the neurons will group together to send signals and forms connections with already seen, heard, tasted or smelled neurons. This is what is called as ‘Forming Logical Connections’ with the past. Once it is established, your brain will say, ‘Hey, this is dog. This is lion and so on.’ Every neuron would’ve seen, or heard, or smelled, or tasted certain features. When you see a new object, your brain will ask the neurons, ‘Hey, anybody experienced this before?’ The neurons will say, ‘Yes, I have seen this.’ Certain other neurons will say, ‘No, I have not seen this.’ The neurons that have seen this before, will group together and form logical connections from the past and gives us an object from our memory. For example, when I showed you a lion picture, your brain asked the neurons who had seen it before. The neurons grouped together with features like face, body, legs, tail and a beard forms a lion. Your brain looks for these features. Once all the features are there, the neurons will send a signal that the picture you are looking at is a lion and not a dog. This is what happens inside your brain, darling. This is also how all our learning happens.”</p>, <p class=\"ho hp fy hq b hr iz hs ht hu ja hv hw hx jb hy hz ia jc ib ic id jd ie if ih dn gv\" id=\"998b\">“In short, brain consists of billions of neurons. Every neuron will tune itself to pick up certain features like legs, tail, face, beard, and so on. When a picture is shown to you, your neurons will group together and tries to signal what that object is by forming logical connections between the past and the present. Ultimately, the neurons in your brain tell that it is a lion and not a dog. This is how your brain identifies things. This complex working of the neurons inside the brain works super fast in the order of milliseconds (very fast). In a few milliseconds, your brain identifies whether the picture is a lion or a dog. This is what a neural network is and this is how it works in identifying things. The same principle is applied for a song that you hear, a cartoon that you watch, a rhyme that you sing, an animal that you draw, a food that you taste, a flower that you smell and so on. Neurons work together in finding patterns and once a pattern is identified, it signals the brain that it is a thing, place, song, taste, smell and so on.”</p>, <p class=\"ho hp fy hq b hr iz hs ht hu ja hv hw hx jb hy hz ia jc ib ic id jd ie if ih dn gv\" id=\"97b5\">It was the time to test her understanding. I asked her simple questions to reiterate what she learnt just now. “Do you understand now, baby? Shall I ask you some questions? If you answer it correctly, I will take you out to the ice-cream parlor and you can have how much ever you want. “ The conversation went like this.</p>, <p class=\"ho hp fy hq b hr iz hs ht hu ja hv hw hx jb hy hz ia jc ib ic id jd ie if ih dn gv\" id=\"d25d\">Me: Where is your brain?</p>, <p class=\"ho hp fy hq b hr iz hs ht hu ja hv hw hx jb hy hz ia jc ib ic id jd ie if ih dn gv\" id=\"2409\">Tanishi: Its here (showing her head)</p>, <p class=\"ho hp fy hq b hr iz hs ht hu ja hv hw hx jb hy hz ia jc ib ic id jd ie if ih dn gv\" id=\"f15d\">Me: Correct! Where are the neurons located?</p>, <p class=\"ho hp fy hq b hr iz hs ht hu ja hv hw hx jb hy hz ia jc ib ic id jd ie if ih dn gv\" id=\"a07d\">Tanishi: Here (showing her head)</p>, <p class=\"ho hp fy hq b hr iz hs ht hu ja hv hw hx jb hy hz ia jc ib ic id jd ie if ih dn gv\" id=\"2522\">Me: Good! Who is responsible for identifying things, objects inside our brain?</p>, <p class=\"ho hp fy hq b hr iz hs ht hu ja hv hw hx jb hy hz ia jc ib ic id jd ie if ih dn gv\" id=\"4e2c\">Tanishi: Hmmmm. Don’t know.</p>, <p class=\"ho hp fy hq b hr iz hs ht hu ja hv hw hx jb hy hz ia jc ib ic id jd ie if ih dn gv\" id=\"43ee\">Me: I will give a clue. It starts with ’N’ and ends with a rhyming sound of ‘ons’</p>, <p class=\"ho hp fy hq b hr iz hs ht hu ja hv hw hx jb hy hz ia jc ib ic id jd ie if ih dn gv\" id=\"eac0\">Tanishi: Neurons</p>, <p class=\"ho hp fy hq b hr iz hs ht hu ja hv hw hx jb hy hz ia jc ib ic id jd ie if ih dn gv\" id=\"fe95\">Me: Good job, baby. Every neuron looks for something. What is a neuron looking for? I will give you a hint. Is it features?</p>, <p class=\"ho hp fy hq b hr iz hs ht hu ja hv hw hx jb hy hz ia jc ib ic id jd ie if ih dn gv\" id=\"009b\">Tanishi: Yes.</p>, <p class=\"ho hp fy hq b hr iz hs ht hu ja hv hw hx jb hy hz ia jc ib ic id jd ie if ih dn gv\" id=\"eb01\">Me: Tell me what neurons are looking for?</p>, <p class=\"ho hp fy hq b hr iz hs ht hu ja hv hw hx jb hy hz ia jc ib ic id jd ie if ih dn gv\" id=\"b74a\">Tanishi: Features.</p>, <p class=\"ho hp fy hq b hr iz hs ht hu ja hv hw hx jb hy hz ia jc ib ic id jd ie if ih dn gv\" id=\"f474\">Me: Great! When I ask you to draw a dog, what are the features there?</p>, <p class=\"ho hp fy hq b hr iz hs ht hu ja hv hw hx jb hy hz ia jc ib ic id jd ie if ih dn gv\" id=\"8d2e\">Tanishi: Help me. I don’t know.</p>, <p class=\"ho hp fy hq b hr iz hs ht hu ja hv hw hx jb hy hz ia jc ib ic id jd ie if ih dn gv\" id=\"243f\">Me: Okay, when I ask you to draw a dog, what is the first thing you draw?</p>, <p class=\"ho hp fy hq b hr iz hs ht hu ja hv hw hx jb hy hz ia jc ib ic id jd ie if ih dn gv\" id=\"f198\">Tanishi: Circle.</p>, <p class=\"ho hp fy hq b hr iz hs ht hu ja hv hw hx jb hy hz ia jc ib ic id jd ie if ih dn gv\" id=\"ce3a\">Me: Good. Circle represents what?</p>, <p class=\"ho hp fy hq b hr iz hs ht hu ja hv hw hx jb hy hz ia jc ib ic id jd ie if ih dn gv\" id=\"ef37\">Tanishi: Face</p>, <p class=\"ho hp fy hq b hr iz hs ht hu ja hv hw hx jb hy hz ia jc ib ic id jd ie if ih dn gv\" id=\"5689\">Me: Yeah, baby. Then what you draw next?</p>, <p class=\"ho hp fy hq b hr iz hs ht hu ja hv hw hx jb hy hz ia jc ib ic id jd ie if ih dn gv\" id=\"059c\">Tanishi: I draw eyes, nose, and mouth.</p>, <p class=\"ho hp fy hq b hr iz hs ht hu ja hv hw hx jb hy hz ia jc ib ic id jd ie if ih dn gv\" id=\"1b01\">Me: Good. That’s right. So, the face has got eyes, nose and mouth as features. Now tell me, what are the features in a face?</p>, <p class=\"ho hp fy hq b hr iz hs ht hu ja hv hw hx jb hy hz ia jc ib ic id jd ie if ih dn gv\" id=\"1348\">Tanishi: Eyes, nose, mouth</p>, <p class=\"ho hp fy hq b hr iz hs ht hu ja hv hw hx jb hy hz ia jc ib ic id jd ie if ih dn gv\" id=\"a0e3\">Me: Brilliant! After the face, what do you draw for completing a dog?</p>, <p class=\"ho hp fy hq b hr iz hs ht hu ja hv hw hx jb hy hz ia jc ib ic id jd ie if ih dn gv\" id=\"4ee2\">Tanishi: Body</p>, <p class=\"ho hp fy hq b hr iz hs ht hu ja hv hw hx jb hy hz ia jc ib ic id jd ie if ih dn gv\" id=\"7fd8\">Me: What shape is the body?</p>, <p class=\"ho hp fy hq b hr iz hs ht hu ja hv hw hx jb hy hz ia jc ib ic id jd ie if ih dn gv\" id=\"1b0d\">Tanishi: Ellipse</p>, <p class=\"ho hp fy hq b hr iz hs ht hu ja hv hw hx jb hy hz ia jc ib ic id jd ie if ih dn gv\" id=\"8a41\">Me: Nice. This is also a feature that our neurons are looking for. What’s next?</p>, <p class=\"ho hp fy hq b hr iz hs ht hu ja hv hw hx jb hy hz ia jc ib ic id jd ie if ih dn gv\" id=\"ed6e\">Tanishi: Legs</p>, <p class=\"ho hp fy hq b hr iz hs ht hu ja hv hw hx jb hy hz ia jc ib ic id jd ie if ih dn gv\" id=\"e1c4\">Me: How many legs does a dog have?</p>, <p class=\"ho hp fy hq b hr iz hs ht hu ja hv hw hx jb hy hz ia jc ib ic id jd ie if ih dn gv\" id=\"15f4\">Tanishi: 1,2,3,4. 4 legs</p>, <p class=\"ho hp fy hq b hr iz hs ht hu ja hv hw hx jb hy hz ia jc ib ic id jd ie if ih dn gv\" id=\"d09c\">Me: Good. Anything else to draw in a dog?</p>, <p class=\"ho hp fy hq b hr iz hs ht hu ja hv hw hx jb hy hz ia jc ib ic id jd ie if ih dn gv\" id=\"b8dd\">Tanishi: That’s it.</p>, <p class=\"ho hp fy hq b hr iz hs ht hu ja hv hw hx jb hy hz ia jc ib ic id jd ie if ih dn gv\" id=\"16bf\">Me: Hey how about a tail? Dogs have tail?</p>, <p class=\"ho hp fy hq b hr iz hs ht hu ja hv hw hx jb hy hz ia jc ib ic id jd ie if ih dn gv\" id=\"fc5e\">Tanishi: Yes.</p>, <p class=\"ho hp fy hq b hr iz hs ht hu ja hv hw hx jb hy hz ia jc ib ic id jd ie if ih dn gv\" id=\"51d2\">Me: So, for a dog, the features are face, body, legs and tail. Do you understand what are the features now for a dog?</p>, <p class=\"ho hp fy hq b hr iz hs ht hu ja hv hw hx jb hy hz ia jc ib ic id jd ie if ih dn gv\" id=\"0400\">Tanishi: Yes!!!</p>, <p class=\"ho hp fy hq b hr iz hs ht hu ja hv hw hx jb hy hz ia jc ib ic id jd ie if ih dn gv\" id=\"cd53\">Me: What are they?</p>, <p class=\"ho hp fy hq b hr iz hs ht hu ja hv hw hx jb hy hz ia jc ib ic id jd ie if ih dn gv\" id=\"40c9\">Tanishi: Face, body, legs and tail</p>, <p class=\"ho hp fy hq b hr iz hs ht hu ja hv hw hx jb hy hz ia jc ib ic id jd ie if ih dn gv\" id=\"4d40\">Me: Amazing baby. If I ask you to draw a lion, what are the features? Same features as a dog but with an extra feature. Can you tell me what that extra feature is for a lion? It starts with ‘B’</p>, <p class=\"ho hp fy hq b hr iz hs ht hu ja hv hw hx jb hy hz ia jc ib ic id jd ie if ih dn gv\" id=\"3685\">Tanishi: Beard. (Holding my beard, she smiled and said) Beard like you</p>, <p class=\"ho hp fy hq b hr iz hs ht hu ja hv hw hx jb hy hz ia jc ib ic id jd ie if ih dn gv\" id=\"3199\">Me: Yes, darling. Good job. So, neurons are inside our brain waiting for features. To identify an object, it looks for features. Once the features are seen and a logical connection is established, neurons signals your brain that it is a lion. Who sends signal to the brain?</p>, <p class=\"ho hp fy hq b hr iz hs ht hu ja hv hw hx jb hy hz ia jc ib ic id jd ie if ih dn gv\" id=\"e5a5\">Tanishi: Neurons</p>, <p class=\"ho hp fy hq b hr iz hs ht hu ja hv hw hx jb hy hz ia jc ib ic id jd ie if ih dn gv\" id=\"e8b1\">Me: Now, these neurons are working together as friends. They are like your friends Daisy, Rose, Isabelle and Hayami. All neurons work together like your friends and identify lion and dog. So, this group of neuron friends is called as Neural Network. Tell me, what is a neural network?</p>, <p class=\"ho hp fy hq b hr iz hs ht hu ja hv hw hx jb hy hz ia jc ib ic id jd ie if ih dn gv\" id=\"749a\">Tanishi: Neuron friends</p>, <p class=\"ho hp fy hq b hr iz hs ht hu ja hv hw hx jb hy hz ia jc ib ic id jd ie if ih dn gv\" id=\"66c5\">Me: Good. Neural network is a group of neuron friends identifying lions and dogs. Do you understand Neural Network now?</p>, <p class=\"ho hp fy hq b hr iz hs ht hu ja hv hw hx jb hy hz ia jc ib ic id jd ie if ih dn gv\" id=\"619e\">Tanishi: Yes papa.</p>, <p class=\"ho hp fy hq b hr iz hs ht hu ja hv hw hx jb hy hz ia jc ib ic id jd ie if ih dn gv\" id=\"9ddc\">Me: Brilliant job baby. Come, let’s go, and get some ice creams for my lovely angel.</p>, <p class=\"ho hp fy hq b hr iz hs ht hu ja hv hw hx jb hy hz ia jc ib ic id jd ie if ih dn gv\" id=\"915a\">Phew! That was a challenging and a learning experience for me as well. That was how I ended my Sunday afternoon with my brilliant daughter who can teach other kids what a Meural Metark is. And I hope she will not come to me running asking “Papa, what is Meural Metark?” again. And I have a strong feeling; she would ask me another stunning question sooner or later. Fingers crossed and I am prepared to take up the challenges coming my way in the future.</p>, <p class=\"bb b bc bd bz\">CS Teacher to ...</p>, <p class=\"bb b bc bd bz\"><button class=\"dy dz ca cb cc cd ce cf cg bm ea eb ch ec ed\">71<!-- --> </button></p>, <p class=\"bb b bc bd bz\"><span class=\"mh mg\">1</span></p>, <p class=\"bb b bc bd gv\"><button class=\"dy dz ca cb cc cd ce cf cg bm ea eb ch ec ed\">71<span class=\"s h g f mu mv\"> </span></button><span class=\"s h g f mu mv\"></span></p>, <p class=\"bb b bc bd gv\"><button class=\"dy dz ca cb cc cd ce cf cg bm ea eb ch ec ed\">71<!-- --> </button></p>, <p class=\"bb b bc bd gv\"><span class=\"my mz mg\">1</span></p>, <p class=\"bb b bc bd bz\">CS Teacher to ...</p>]\n"
     ]
    },
    {
     "data": {
      "text/plain": [
       "'url: https://medium.com/@subashgandyer/papa-what-is-a-neural-network-c5e5cc427c7\\n\\nSign in\\n\\nSubash Gandyer\\n\\nMar 15, 2018·10 min read\\n\\nIt was a cozy Sunday afternoon in the month of February 2018. I just finished my huge customary Sunday lunch spread with family and resting along. Everyone in the family was taking a quick nap for a pre-planned evening outing. Well not everyone, actually.\\n\\nMy 4-year-old angel came running to me, asked me to play with her for a while. As I was lazy and not in a position to move after the big spread, I evaded the chance to play with her by telling her “Papa’s got some work baby. Got to code some stuff.” I thought that would be the end of the conversation. No! It wasn’t. As my daughter was very inquisitive, she asked me “Papa, what stuff?” I said, “I need to code something for my work.” She didn’t leave. She again asked, “What is code something?” I wanted to end this conversation, as I was half past asleep. “Just some stuff baby. You wouldn’t understand. Way beyond your age.” Tanishi never takes NO for an answer. “Papa, tell me what stuff means and something means.” Cannot help evade a cute curious face, I said, “I am working on Neural Network.” Before I finish the statement, “Papa, What is a Meural Metark?” I gave up my stubbornness of avoiding her. With a smile, I said slowly, “Its Neu — ral Net — work”\\n\\nShe asked, “Papa, What is Meu-ral Met-ark?”\\n\\nAt the back of my head, thoughts of me taking days to comprehend what a NN (short for Neural Network) is, how it would work, where it is used, how it is simulating our human brain’s inner workings were going through. It took me days and weeks to understand fully and how can I make a 4-year-old understand what a Neural Network is. I never thought about teaching a complex concept to a kid before. It was way beyond their age. It was not a mere color or a shape or a number to teach. This was going to be interesting and challenging. I saw an opportunity here as a teacher (teaching professional college adults) to simplify the complex problem to a simpler understandable concept for a kid who doesn’t know anything apart from ABC, 1 to 20, Colors and Shapes. WOW! This was mind-boggling. I gave a couple of lectures to make my adult students understand what a Neural Network is when I taught them a mini-Machine Learning course. I rolled up my sleeves. Took up the challenge. Sat down beside my kid with pencil, drawing sheet and my laptop.\\n\\nThinking of ways of what would be the best way to start teaching her. One simple methodology: I thought of starting with an easy-to-follow definition.\\n\\n“Neural Network is a collection (a network) of neurons whose job is to learn a new thing or a new place or a new process or a new concept.”\\n\\nIt would be stupid on my part to start with a definition of Neural Network like how we used to teach adults in college. No, it’s not right for a kid. Then, I thought of a way to start with her favorite hobby of drawing and coloring objects. Gave her a paper, ask her to draw a circle. She did. She didn’t stop there. She drew a face inside the circle. She did with great pride and smile. I drew a circle below. Asked her to draw a dog out of it. She drew a face on the circle, and then she drew one big ellipse next to head. Beneath the ellipse, she drew four legs downwards. She said, “That’s the dog daddy.” I was super impressed as her daddy. I said, “Good Job!” and asked her, “Where’s the tail, baby?” She smiled and drew a tail. That’s it. There’s a dog.\\n\\nI knew she never learnt to draw a lion. I took this opportunity to make her learn a new thing. After all, neural network inside our brain helps us to learn new things in our life. I said, “Baby, we would learn how to draw a lion now.” She’s bustling with energy said “Yayyyy! Lion!” and made “Grrrrrrrrr!!!” I tested her by asking her to try drawing a lion. She stumbled. She never came across a lion before. I told her, there would be a circle face, ellipse body, four legs, a tail and so on. What I was actually doing here was teaching her neural network (brain) the features of a lion like exactly how Machine Learning Engineers would train the machine to learn new features. After telling her the features of a lion, asked her “Can you draw these for me?” She happily drew almost a similar figure to that of a dog she drew before.\\n\\nI said, “Very good”. But they look similar right? Now, we need to know the difference between a dog and a lion. What’s the difference? Lion is big. Dog is small. One big difference is the mane (the beard) just like your papa has. A big beard is the main difference between a lion and a dog. Now I took the pencil and drew a beard in the face. I told her this is a lion. A dog will have features like face, body, legs, and tail. A lion will have features like face, body, legs, tail and a beard. She was little confused, rightly so.\\n\\nTried a different approach to teach her with visuals. I spend some time in collecting pictures of dogs and lions from Google images. Printed it and showed her a set of dogs and then a set of lions. I asked her what these pictures look like to you? Was it a dog or a lion? She kept mixing the answers first. After rewarding her for correct classifications with nice adjectives and correcting her for wrong classifications, her detection accuracy improved a lot after sometime. She slowly got used to it. She got trained. Her neural network got aligned with classifying Dogs and Lions after some training. If you’ve noticed, this is how ML people make their machines learn through Reinforcement Learning. This was how I trained my daughter to classify dogs and lions. She was so happy that she learnt a new thing by doing her favorite pastime of drawing and coloring.\\n\\nShe was happy and there was the neural network functioning concept that still remained to be taught to her. I asked her “What happened now baby? Did you learn something new today? Do you know what is the difference between a lion and a dog?” She said, “Yes.” I said, “This is called Learning. You just learnt a new thing today. How you learnt it is because of Neural Network inside your brain.” Now, a neural network is a collection of neurons that keeps switching on and off based on things you see, feel, hear and think just like switching on light bulb at our home.\\n\\n“Your brain is here inside our head. Your brain has billions of neurons inside. Every neuron has a purpose of seeing a feature. You can think of a feature as a simpler form of an object. For example, a face object can be seen by neurons as a circle (face) with two smaller circles (two eyes), a line (nose) and a curved line (mouth). These are features in a face object. Neurons will look for these patterns (circle, line, curved line, smaller circles and so on). Every neuron is waiting for your eyes to see something new, for your nose to smell something new, for your ears to hear something new, for your tongue to taste something new. When something new is heard, or smelled, or seen, or tasted, the neurons will group together to send signals and forms connections with already seen, heard, tasted or smelled neurons. This is what is called as ‘Forming Logical Connections’ with the past. Once it is established, your brain will say, ‘Hey, this is dog. This is lion and so on.’ Every neuron would’ve seen, or heard, or smelled, or tasted certain features. When you see a new object, your brain will ask the neurons, ‘Hey, anybody experienced this before?’ The neurons will say, ‘Yes, I have seen this.’ Certain other neurons will say, ‘No, I have not seen this.’ The neurons that have seen this before, will group together and form logical connections from the past and gives us an object from our memory. For example, when I showed you a lion picture, your brain asked the neurons who had seen it before. The neurons grouped together with features like face, body, legs, tail and a beard forms a lion. Your brain looks for these features. Once all the features are there, the neurons will send a signal that the picture you are looking at is a lion and not a dog. This is what happens inside your brain, darling. This is also how all our learning happens.”\\n\\n“In short, brain consists of billions of neurons. Every neuron will tune itself to pick up certain features like legs, tail, face, beard, and so on. When a picture is shown to you, your neurons will group together and tries to signal what that object is by forming logical connections between the past and the present. Ultimately, the neurons in your brain tell that it is a lion and not a dog. This is how your brain identifies things. This complex working of the neurons inside the brain works super fast in the order of milliseconds (very fast). In a few milliseconds, your brain identifies whether the picture is a lion or a dog. This is what a neural network is and this is how it works in identifying things. The same principle is applied for a song that you hear, a cartoon that you watch, a rhyme that you sing, an animal that you draw, a food that you taste, a flower that you smell and so on. Neurons work together in finding patterns and once a pattern is identified, it signals the brain that it is a thing, place, song, taste, smell and so on.”\\n\\nIt was the time to test her understanding. I asked her simple questions to reiterate what she learnt just now. “Do you understand now, baby? Shall I ask you some questions? If you answer it correctly, I will take you out to the ice-cream parlor and you can have how much ever you want. “ The conversation went like this.\\n\\nMe: Where is your brain?\\n\\nTanishi: Its here (showing her head)\\n\\nMe: Correct! Where are the neurons located?\\n\\nTanishi: Here (showing her head)\\n\\nMe: Good! Who is responsible for identifying things, objects inside our brain?\\n\\nTanishi: Hmmmm. Don’t know.\\n\\nMe: I will give a clue. It starts with ’N’ and ends with a rhyming sound of ‘ons’\\n\\nTanishi: Neurons\\n\\nMe: Good job, baby. Every neuron looks for something. What is a neuron looking for? I will give you a hint. Is it features?\\n\\nTanishi: Yes.\\n\\nMe: Tell me what neurons are looking for?\\n\\nTanishi: Features.\\n\\nMe: Great! When I ask you to draw a dog, what are the features there?\\n\\nTanishi: Help me. I don’t know.\\n\\nMe: Okay, when I ask you to draw a dog, what is the first thing you draw?\\n\\nTanishi: Circle.\\n\\nMe: Good. Circle represents what?\\n\\nTanishi: Face\\n\\nMe: Yeah, baby. Then what you draw next?\\n\\nTanishi: I draw eyes, nose, and mouth.\\n\\nMe: Good. That’s right. So, the face has got eyes, nose and mouth as features. Now tell me, what are the features in a face?\\n\\nTanishi: Eyes, nose, mouth\\n\\nMe: Brilliant! After the face, what do you draw for completing a dog?\\n\\nTanishi: Body\\n\\nMe: What shape is the body?\\n\\nTanishi: Ellipse\\n\\nMe: Nice. This is also a feature that our neurons are looking for. What’s next?\\n\\nTanishi: Legs\\n\\nMe: How many legs does a dog have?\\n\\nTanishi: 1,2,3,4. 4 legs\\n\\nMe: Good. Anything else to draw in a dog?\\n\\nTanishi: That’s it.\\n\\nMe: Hey how about a tail? Dogs have tail?\\n\\nTanishi: Yes.\\n\\nMe: So, for a dog, the features are face, body, legs and tail. Do you understand what are the features now for a dog?\\n\\nTanishi: Yes!!!\\n\\nMe: What are they?\\n\\nTanishi: Face, body, legs and tail\\n\\nMe: Amazing baby. If I ask you to draw a lion, what are the features? Same features as a dog but with an extra feature. Can you tell me what that extra feature is for a lion? It starts with ‘B’\\n\\nTanishi: Beard. (Holding my beard, she smiled and said) Beard like you\\n\\nMe: Yes, darling. Good job. So, neurons are inside our brain waiting for features. To identify an object, it looks for features. Once the features are seen and a logical connection is established, neurons signals your brain that it is a lion. Who sends signal to the brain?\\n\\nTanishi: Neurons\\n\\nMe: Now, these neurons are working together as friends. They are like your friends Daisy, Rose, Isabelle and Hayami. All neurons work together like your friends and identify lion and dog. So, this group of neuron friends is called as Neural Network. Tell me, what is a neural network?\\n\\nTanishi: Neuron friends\\n\\nMe: Good. Neural network is a group of neuron friends identifying lions and dogs. Do you understand Neural Network now?\\n\\nTanishi: Yes papa.\\n\\nMe: Brilliant job baby. Come, let’s go, and get some ice creams for my lovely angel.\\n\\nPhew! That was a challenging and a learning experience for me as well. That was how I ended my Sunday afternoon with my brilliant daughter who can teach other kids what a Meural Metark is. And I hope she will not come to me running asking “Papa, what is Meural Metark?” again. And I have a strong feeling; she would ask me another stunning question sooner or later. Fingers crossed and I am prepared to take up the challenges coming my way in the future.\\n\\nCS Teacher to ...\\n\\n71 \\n\\n1\\n\\n71\\xa0\\n\\n71 \\n\\n1\\n\\nCS Teacher to ...\\n\\n'"
      ]
     },
     "execution_count": 20,
     "metadata": {},
     "output_type": "execute_result"
    }
   ],
   "source": [
    "text = collect_text(get_page(url))\n",
    "text"
   ]
  },
  {
   "cell_type": "markdown",
   "metadata": {},
   "source": [
    "### Summarize\n",
    "- **word_count**: maximum amount of words we want in the summary\n",
    "- **ratio**: fraction of sentences in the original text should be returned as output"
   ]
  },
  {
   "cell_type": "code",
   "execution_count": 21,
   "metadata": {},
   "outputs": [
    {
     "data": {
      "text/plain": [
       "'After all, neural network inside our brain helps us to learn new things in our life.\\nWhat I was actually doing here was teaching her neural network (brain) the features of a lion like exactly how Machine Learning Engineers would train the machine to learn new features.\\nAfter telling her the features of a lion, asked her “Can you draw these for me?” She happily drew almost a similar figure to that of a dog she drew before.\\nA dog will have features like face, body, legs, and tail.\\nA lion will have features like face, body, legs, tail and a beard.\\nThe neurons grouped together with features like face, body, legs, tail and a beard forms a lion.\\nOnce all the features are there, the neurons will send a signal that the picture you are looking at is a lion and not a dog.\\nEvery neuron will tune itself to pick up certain features like legs, tail, face, beard, and so on.\\nUltimately, the neurons in your brain tell that it is a lion and not a dog.\\nAll neurons work together like your friends and identify lion and dog.\\nNeural network is a group of neuron friends identifying lions and dogs.'"
      ]
     },
     "execution_count": 21,
     "metadata": {},
     "output_type": "execute_result"
    }
   ],
   "source": [
    "gensim_summary_text = summarize(text, word_count=200, ratio=0.1)\n",
    "gensim_summary_text"
   ]
  },
  {
   "cell_type": "markdown",
   "metadata": {},
   "source": [
    "## 3. Summa"
   ]
  },
  {
   "cell_type": "markdown",
   "metadata": {},
   "source": [
    "## Task: Take a piece of text from wiki page and summarize them using Gensim\n",
    "### Steps\n",
    "- Install the necessary libraries\n",
    "- Import the libraries\n",
    "- Scrape the text from a pre-defined webpage\n",
    "- Summarize"
   ]
  },
  {
   "cell_type": "markdown",
   "metadata": {},
   "source": [
    "### Install the library"
   ]
  },
  {
   "cell_type": "code",
   "execution_count": 22,
   "metadata": {},
   "outputs": [],
   "source": [
    "# !pip install summa"
   ]
  },
  {
   "cell_type": "markdown",
   "metadata": {},
   "source": [
    "### Import the library"
   ]
  },
  {
   "cell_type": "code",
   "execution_count": 23,
   "metadata": {},
   "outputs": [],
   "source": [
    "from summa import summarizer\n",
    "from summa import keywords"
   ]
  },
  {
   "cell_type": "markdown",
   "metadata": {},
   "source": [
    "### Scrape the text\n",
    "- Use beautifulSoup to extract text (from Task1 of ML-1)"
   ]
  },
  {
   "cell_type": "markdown",
   "metadata": {},
   "source": [
    "### Summarize"
   ]
  },
  {
   "cell_type": "code",
   "execution_count": 24,
   "metadata": {},
   "outputs": [
    {
     "data": {
      "text/plain": [
       "'What I was actually doing here was teaching her neural network (brain) the features of a lion like exactly how Machine Learning Engineers would train the machine to learn new features.\\nAfter telling her the features of a lion, asked her “Can you draw these for me?” She happily drew almost a similar figure to that of a dog she drew before.\\nA dog will have features like face, body, legs, and tail.\\nA lion will have features like face, body, legs, tail and a beard.\\nHer neural network got aligned with classifying Dogs and Lions after some training.\\nDo you know what is the difference between a lion and a dog?” She said, “Yes.” I said, “This is called Learning.\\nHow you learnt it is because of Neural Network inside your brain.” Now, a neural network is a collection of neurons that keeps switching on and off based on things you see, feel, hear and think just like switching on light bulb at our home.\\nFor example, when I showed you a lion picture, your brain asked the neurons who had seen it before.\\nThe neurons grouped together with features like face, body, legs, tail and a beard forms a lion.\\nOnce all the features are there, the neurons will send a signal that the picture you are looking at is a lion and not a dog.\\nEvery neuron will tune itself to pick up certain features like legs, tail, face, beard, and so on.\\nUltimately, the neurons in your brain tell that it is a lion and not a dog.\\nIn a few milliseconds, your brain identifies whether the picture is a lion or a dog.\\nTanishi: Neurons\\nWhen I ask you to draw a dog, what are the features there?\\nMe: So, for a dog, the features are face, body, legs and tail.\\nIf I ask you to draw a lion, what are the features?\\nSo, neurons are inside our brain waiting for features.\\nOnce the features are seen and a logical connection is established, neurons signals your brain that it is a lion.\\nTanishi: Neurons\\nAll neurons work together like your friends and identify lion and dog.\\nNeural network is a group of neuron friends identifying lions and dogs.'"
      ]
     },
     "execution_count": 24,
     "metadata": {},
     "output_type": "execute_result"
    }
   ],
   "source": [
    "summa_summary_text = summarizer.summarize(text, ratio=0.1)\n",
    "summa_summary_text"
   ]
  },
  {
   "cell_type": "markdown",
   "metadata": {},
   "source": [
    "## ASSIGNMENT: Take the same medium article (the one I wrote) we used for Task 1 of ML-1 and extract the text and summarize them using all the above methods and provide the best summary with a note saying why the chosen library is the best\n",
    "url = https://medium.com/@subashgandyer/papa-what-is-a-neural-network-c5e5cc427c7\n",
    "\n",
    "### Submit 2 files\n",
    "- (notebook) .ipynb\n",
    "- (summary) .txt"
   ]
  },
  {
   "cell_type": "code",
   "execution_count": 25,
   "metadata": {},
   "outputs": [],
   "source": [
    "# .txt summary\n",
    "with open('summary.txt', 'w') as f:\n",
    "    f.write(summa_summary_text)"
   ]
  },
  {
   "cell_type": "markdown",
   "metadata": {},
   "source": [
    "# Metrics"
   ]
  },
  {
   "cell_type": "code",
   "execution_count": 26,
   "metadata": {},
   "outputs": [],
   "source": [
    "from rouge import Rouge\n",
    "rouge = Rouge()"
   ]
  },
  {
   "cell_type": "code",
   "execution_count": 27,
   "metadata": {},
   "outputs": [
    {
     "data": {
      "text/plain": [
       "{'rouge-1': {'r': 0.21979434447300772, 'p': 1.0, 'f': 0.3603793437262895},\n",
       " 'rouge-2': {'r': 0.15334773218142547,\n",
       "  'p': 0.9435215946843853,\n",
       "  'f': 0.2638179260667096},\n",
       " 'rouge-l': {'r': 0.21979434447300772, 'p': 1.0, 'f': 0.3603793437262895}}"
      ]
     },
     "execution_count": 27,
     "metadata": {},
     "output_type": "execute_result"
    }
   ],
   "source": [
    "rouge.get_scores(summa_summary_text, text,avg=True)"
   ]
  },
  {
   "cell_type": "code",
   "execution_count": 28,
   "metadata": {},
   "outputs": [
    {
     "data": {
      "text/plain": [
       "{'rouge-1': {'r': 0.13753213367609254, 'p': 1.0, 'f': 0.24180790747879602},\n",
       " 'rouge-2': {'r': 0.08585313174946005,\n",
       "  'p': 0.9520958083832335,\n",
       "  'f': 0.15750371319280115},\n",
       " 'rouge-l': {'r': 0.13753213367609254, 'p': 1.0, 'f': 0.24180790747879602}}"
      ]
     },
     "execution_count": 28,
     "metadata": {},
     "output_type": "execute_result"
    }
   ],
   "source": [
    "rouge.get_scores(gensim_summary_text, text,avg=True)"
   ]
  },
  {
   "cell_type": "code",
   "execution_count": 29,
   "metadata": {},
   "outputs": [
    {
     "data": {
      "text/plain": [
       "{'rouge-1': {'r': 0.09768637532133675, 'p': 0.95, 'f': 0.1771561754652496},\n",
       " 'rouge-2': {'r': 0.04265658747300216,\n",
       "  'p': 0.8876404494382022,\n",
       "  'f': 0.08140133864070981},\n",
       " 'rouge-l': {'r': 0.09768637532133675, 'p': 0.95, 'f': 0.1771561754652496}}"
      ]
     },
     "execution_count": 29,
     "metadata": {},
     "output_type": "execute_result"
    }
   ],
   "source": [
    "rouge.get_scores(str(lsa_summary_text), text, avg=True)"
   ]
  },
  {
   "cell_type": "code",
   "execution_count": 30,
   "metadata": {},
   "outputs": [
    {
     "data": {
      "text/plain": [
       "{'rouge-1': {'r': 0.16323907455012854,\n",
       "  'p': 0.9477611940298507,\n",
       "  'f': 0.2785087694229955},\n",
       " 'rouge-2': {'r': 0.09611231101511879,\n",
       "  'p': 0.9222797927461139,\n",
       "  'f': 0.17408312787496014},\n",
       " 'rouge-l': {'r': 0.16323907455012854,\n",
       "  'p': 0.9477611940298507,\n",
       "  'f': 0.2785087694229955}}"
      ]
     },
     "execution_count": 30,
     "metadata": {},
     "output_type": "execute_result"
    }
   ],
   "source": [
    "rouge.get_scores(str(summary_text), text, avg=True)"
   ]
  },
  {
   "cell_type": "code",
   "execution_count": 31,
   "metadata": {},
   "outputs": [
    {
     "data": {
      "text/plain": [
       "{'rouge-1': {'r': 0.16323907455012854,\n",
       "  'p': 0.9548872180451128,\n",
       "  'f': 0.27881448707831236},\n",
       " 'rouge-2': {'r': 0.09935205183585313,\n",
       "  'p': 0.934010152284264,\n",
       "  'f': 0.17959980304480685},\n",
       " 'rouge-l': {'r': 0.16323907455012854,\n",
       "  'p': 0.9548872180451128,\n",
       "  'f': 0.27881448707831236}}"
      ]
     },
     "execution_count": 31,
     "metadata": {},
     "output_type": "execute_result"
    }
   ],
   "source": [
    "rouge.get_scores(str(luhn_summary_text), text, avg=True)"
   ]
  },
  {
   "cell_type": "code",
   "execution_count": 32,
   "metadata": {},
   "outputs": [
    {
     "data": {
      "text/plain": [
       "{'rouge-1': {'r': 0.07969151670951156,\n",
       "  'p': 0.8857142857142857,\n",
       "  'f': 0.14622641357967694},\n",
       " 'rouge-2': {'r': 0.04049676025917927,\n",
       "  'p': 0.7894736842105263,\n",
       "  'f': 0.07704160153708617},\n",
       " 'rouge-l': {'r': 0.07969151670951156,\n",
       "  'p': 0.8857142857142857,\n",
       "  'f': 0.14622641357967694}}"
      ]
     },
     "execution_count": 32,
     "metadata": {},
     "output_type": "execute_result"
    }
   ],
   "source": [
    "rouge.get_scores(str(lex_summary_text), text, avg=True)"
   ]
  }
 ],
 "metadata": {
  "interpreter": {
   "hash": "398dc28c06ad810e77de546bbdfa897a6ee0b83e59a5207339dda01a7843e01d"
  },
  "kernelspec": {
   "display_name": "testing",
   "language": "python",
   "name": "python3"
  },
  "language_info": {
   "codemirror_mode": {
    "name": "ipython",
    "version": 3
   },
   "file_extension": ".py",
   "mimetype": "text/x-python",
   "name": "python",
   "nbconvert_exporter": "python",
   "pygments_lexer": "ipython3",
   "version": "3.7.3"
  }
 },
 "nbformat": 4,
 "nbformat_minor": 4
}
